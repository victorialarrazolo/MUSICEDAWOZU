{
 "cells": [
  {
   "cell_type": "markdown",
   "metadata": {},
   "source": [
    "# Data Analysis Assessment\n",
    "- How did the programs perform? (Overall and compared)\n",
    "In total the programs have brought in 106 users and the program that has been the most efficent has been Next Music sourcing \n",
    "- What recommendations do you have for the executive team?\n",
    "\n",
    "- What else should we analyze or add to the analysis?\n"
   ]
  },
  {
   "cell_type": "markdown",
   "metadata": {},
   "source": [
    "#\n",
    "- The dataset contains information about Next Music's users, how they got started with the app, and about the actions that they take on the app\n",
    "- It can be useful to help better understand the users and to predict trends on the app\n"
   ]
  },
  {
   "cell_type": "markdown",
   "metadata": {},
   "source": [
    "### Load packages & data"
   ]
  },
  {
   "cell_type": "code",
   "execution_count": 44,
   "metadata": {},
   "outputs": [],
   "source": [
    "import pandas as pd\n",
    "import numpy as np\n",
    "import json\n",
    "import plotly.graph_objects as go\n",
    "import seaborn as sns"
   ]
  },
  {
   "cell_type": "markdown",
   "metadata": {},
   "source": [
    "# Tasks\n",
    "- Perform data preparation & cleaning using Pandas & Numpy\n",
    "- Perform exploratory analysis & visualization using Matplotlib & Seaborn\n",
    "- Ask & answer questions about the data in a Jupyter notebook\n",
    "- Summarize inferences & write a conclusion\n"
   ]
  },
  {
   "cell_type": "code",
   "execution_count": null,
   "metadata": {},
   "outputs": [],
   "source": []
  },
  {
   "cell_type": "code",
   "execution_count": 2,
   "metadata": {},
   "outputs": [
    {
     "data": {
      "text/html": [
       "<div>\n",
       "<style scoped>\n",
       "    .dataframe tbody tr th:only-of-type {\n",
       "        vertical-align: middle;\n",
       "    }\n",
       "\n",
       "    .dataframe tbody tr th {\n",
       "        vertical-align: top;\n",
       "    }\n",
       "\n",
       "    .dataframe thead th {\n",
       "        text-align: right;\n",
       "    }\n",
       "</style>\n",
       "<table border=\"1\" class=\"dataframe\">\n",
       "  <thead>\n",
       "    <tr style=\"text-align: right;\">\n",
       "      <th></th>\n",
       "      <th>uuid</th>\n",
       "      <th>event_key</th>\n",
       "      <th>artist_id</th>\n",
       "      <th>event_data</th>\n",
       "      <th>created_at</th>\n",
       "    </tr>\n",
       "  </thead>\n",
       "  <tbody>\n",
       "    <tr>\n",
       "      <th>0</th>\n",
       "      <td>uuidob00001</td>\n",
       "      <td>account_created</td>\n",
       "      <td>agkk5ivISsPF0uw</td>\n",
       "      <td>{\"name\":\"artist_1\",\"program\":\"word_of_mouth\"}</td>\n",
       "      <td>2021-09-22 01:55:00</td>\n",
       "    </tr>\n",
       "    <tr>\n",
       "      <th>1</th>\n",
       "      <td>uuidob00002</td>\n",
       "      <td>account_created</td>\n",
       "      <td>UoBcZlkZsZxfnLA</td>\n",
       "      <td>{\"name\":\"artist_2\",\"program\":\"referral\"}</td>\n",
       "      <td>2021-09-22 07:57:00</td>\n",
       "    </tr>\n",
       "    <tr>\n",
       "      <th>2</th>\n",
       "      <td>uuidob00003</td>\n",
       "      <td>account_created</td>\n",
       "      <td>RT2qk6qKwuNLnkQ</td>\n",
       "      <td>{\"name\":\"artist_3\",\"program\":\"nm_sourcing\"}</td>\n",
       "      <td>2021-09-22 13:51:00</td>\n",
       "    </tr>\n",
       "    <tr>\n",
       "      <th>3</th>\n",
       "      <td>uuidob00004</td>\n",
       "      <td>account_created</td>\n",
       "      <td>ySbRnUV23pcX5dw</td>\n",
       "      <td>{\"name\":\"artist_4\",\"program\":\"nm_sourcing\"}</td>\n",
       "      <td>2021-09-22 15:56:00</td>\n",
       "    </tr>\n",
       "    <tr>\n",
       "      <th>4</th>\n",
       "      <td>uuidob00005</td>\n",
       "      <td>account_created</td>\n",
       "      <td>fgaGxHamsFiWXMg</td>\n",
       "      <td>{\"name\":\"artist_5\",\"program\":\"referral\"}</td>\n",
       "      <td>2021-09-22 21:44:00</td>\n",
       "    </tr>\n",
       "  </tbody>\n",
       "</table>\n",
       "</div>"
      ],
      "text/plain": [
       "          uuid        event_key        artist_id  \\\n",
       "0  uuidob00001  account_created  agkk5ivISsPF0uw   \n",
       "1  uuidob00002  account_created  UoBcZlkZsZxfnLA   \n",
       "2  uuidob00003  account_created  RT2qk6qKwuNLnkQ   \n",
       "3  uuidob00004  account_created  ySbRnUV23pcX5dw   \n",
       "4  uuidob00005  account_created  fgaGxHamsFiWXMg   \n",
       "\n",
       "                                      event_data          created_at  \n",
       "0  {\"name\":\"artist_1\",\"program\":\"word_of_mouth\"} 2021-09-22 01:55:00  \n",
       "1       {\"name\":\"artist_2\",\"program\":\"referral\"} 2021-09-22 07:57:00  \n",
       "2    {\"name\":\"artist_3\",\"program\":\"nm_sourcing\"} 2021-09-22 13:51:00  \n",
       "3    {\"name\":\"artist_4\",\"program\":\"nm_sourcing\"} 2021-09-22 15:56:00  \n",
       "4       {\"name\":\"artist_5\",\"program\":\"referral\"} 2021-09-22 21:44:00  "
      ]
     },
     "execution_count": 2,
     "metadata": {},
     "output_type": "execute_result"
    }
   ],
   "source": [
    "df = pd.read_excel('/Users/victoria/Downloads/nextmusicassessment.xlsx')\n",
    "df.head()"
   ]
  },
  {
   "cell_type": "markdown",
   "metadata": {},
   "source": [
    "### Data inspection and cleaning"
   ]
  },
  {
   "cell_type": "code",
   "execution_count": 3,
   "metadata": {},
   "outputs": [
    {
     "name": "stdout",
     "output_type": "stream",
     "text": [
      "<class 'pandas.core.frame.DataFrame'>\n",
      "RangeIndex: 47514 entries, 0 to 47513\n",
      "Data columns (total 5 columns):\n",
      " #   Column      Non-Null Count  Dtype         \n",
      "---  ------      --------------  -----         \n",
      " 0   uuid        47514 non-null  object        \n",
      " 1   event_key   47514 non-null  object        \n",
      " 2   artist_id   47514 non-null  object        \n",
      " 3   event_data  47397 non-null  object        \n",
      " 4   created_at  47514 non-null  datetime64[ns]\n",
      "dtypes: datetime64[ns](1), object(4)\n",
      "memory usage: 1.8+ MB\n"
     ]
    },
    {
     "name": "stderr",
     "output_type": "stream",
     "text": [
      "/var/folders/xg/vdpll1cd02q2vp6xvqsp2mlm0000gn/T/ipykernel_63751/1105677265.py:2: FutureWarning: Treating datetime data as categorical rather than numeric in `.describe` is deprecated and will be removed in a future version of pandas. Specify `datetime_is_numeric=True` to silence this warning and adopt the future behavior now.\n",
      "  df.describe()\n"
     ]
    },
    {
     "data": {
      "text/plain": [
       "uuid            0\n",
       "event_key       0\n",
       "artist_id       0\n",
       "event_data    117\n",
       "created_at      0\n",
       "dtype: int64"
      ]
     },
     "execution_count": 3,
     "metadata": {},
     "output_type": "execute_result"
    }
   ],
   "source": [
    "df.info()\n",
    "df.describe()\n",
    "df.isna().sum()"
   ]
  },
  {
   "cell_type": "markdown",
   "metadata": {},
   "source": [
    "### for event data ther are 117 missing values "
   ]
  },
  {
   "cell_type": "code",
   "execution_count": 4,
   "metadata": {},
   "outputs": [
    {
     "data": {
      "text/html": [
       "<div>\n",
       "<style scoped>\n",
       "    .dataframe tbody tr th:only-of-type {\n",
       "        vertical-align: middle;\n",
       "    }\n",
       "\n",
       "    .dataframe tbody tr th {\n",
       "        vertical-align: top;\n",
       "    }\n",
       "\n",
       "    .dataframe thead th {\n",
       "        text-align: right;\n",
       "    }\n",
       "</style>\n",
       "<table border=\"1\" class=\"dataframe\">\n",
       "  <thead>\n",
       "    <tr style=\"text-align: right;\">\n",
       "      <th></th>\n",
       "      <th>action_id</th>\n",
       "      <th>event_key</th>\n",
       "      <th>artist_id</th>\n",
       "      <th>event_data</th>\n",
       "      <th>created_at</th>\n",
       "    </tr>\n",
       "  </thead>\n",
       "  <tbody>\n",
       "    <tr>\n",
       "      <th>0</th>\n",
       "      <td>uuidob00001</td>\n",
       "      <td>account_created</td>\n",
       "      <td>agkk5ivISsPF0uw</td>\n",
       "      <td>{\"name\":\"artist_1\",\"program\":\"word_of_mouth\"}</td>\n",
       "      <td>2021-09-22 01:55:00</td>\n",
       "    </tr>\n",
       "    <tr>\n",
       "      <th>1</th>\n",
       "      <td>uuidob00002</td>\n",
       "      <td>account_created</td>\n",
       "      <td>UoBcZlkZsZxfnLA</td>\n",
       "      <td>{\"name\":\"artist_2\",\"program\":\"referral\"}</td>\n",
       "      <td>2021-09-22 07:57:00</td>\n",
       "    </tr>\n",
       "    <tr>\n",
       "      <th>2</th>\n",
       "      <td>uuidob00003</td>\n",
       "      <td>account_created</td>\n",
       "      <td>RT2qk6qKwuNLnkQ</td>\n",
       "      <td>{\"name\":\"artist_3\",\"program\":\"nm_sourcing\"}</td>\n",
       "      <td>2021-09-22 13:51:00</td>\n",
       "    </tr>\n",
       "    <tr>\n",
       "      <th>3</th>\n",
       "      <td>uuidob00004</td>\n",
       "      <td>account_created</td>\n",
       "      <td>ySbRnUV23pcX5dw</td>\n",
       "      <td>{\"name\":\"artist_4\",\"program\":\"nm_sourcing\"}</td>\n",
       "      <td>2021-09-22 15:56:00</td>\n",
       "    </tr>\n",
       "    <tr>\n",
       "      <th>4</th>\n",
       "      <td>uuidob00005</td>\n",
       "      <td>account_created</td>\n",
       "      <td>fgaGxHamsFiWXMg</td>\n",
       "      <td>{\"name\":\"artist_5\",\"program\":\"referral\"}</td>\n",
       "      <td>2021-09-22 21:44:00</td>\n",
       "    </tr>\n",
       "  </tbody>\n",
       "</table>\n",
       "</div>"
      ],
      "text/plain": [
       "     action_id        event_key        artist_id  \\\n",
       "0  uuidob00001  account_created  agkk5ivISsPF0uw   \n",
       "1  uuidob00002  account_created  UoBcZlkZsZxfnLA   \n",
       "2  uuidob00003  account_created  RT2qk6qKwuNLnkQ   \n",
       "3  uuidob00004  account_created  ySbRnUV23pcX5dw   \n",
       "4  uuidob00005  account_created  fgaGxHamsFiWXMg   \n",
       "\n",
       "                                      event_data          created_at  \n",
       "0  {\"name\":\"artist_1\",\"program\":\"word_of_mouth\"} 2021-09-22 01:55:00  \n",
       "1       {\"name\":\"artist_2\",\"program\":\"referral\"} 2021-09-22 07:57:00  \n",
       "2    {\"name\":\"artist_3\",\"program\":\"nm_sourcing\"} 2021-09-22 13:51:00  \n",
       "3    {\"name\":\"artist_4\",\"program\":\"nm_sourcing\"} 2021-09-22 15:56:00  \n",
       "4       {\"name\":\"artist_5\",\"program\":\"referral\"} 2021-09-22 21:44:00  "
      ]
     },
     "execution_count": 4,
     "metadata": {},
     "output_type": "execute_result"
    }
   ],
   "source": [
    "# Giving the data more apropiate labels\n",
    "df.rename(columns = {\"uuid\": \"action_id\"}, inplace = True)\n",
    "df.head()\n",
    "# the \"uuid\" column label was changed to \"action_id\" for better understading "
   ]
  },
  {
   "cell_type": "code",
   "execution_count": 5,
   "metadata": {},
   "outputs": [
    {
     "data": {
      "text/plain": [
       "array(['account_created', 'currency_given', 'show', 'level_adjust_1',\n",
       "       'account_update'], dtype=object)"
      ]
     },
     "execution_count": 5,
     "metadata": {},
     "output_type": "execute_result"
    }
   ],
   "source": [
    "# See how many unique variables are in event_key \n",
    "df['event_key'].unique()"
   ]
  },
  {
   "cell_type": "code",
   "execution_count": 6,
   "metadata": {},
   "outputs": [],
   "source": [
    "#There are  four types of events : 'account_created', 'currency_given', 'show', 'level_adjust_1', and 'account_update'"
   ]
  },
  {
   "cell_type": "markdown",
   "metadata": {},
   "source": [
    "## Working on Account Created\n",
    "- The data associated with the \"account_created\" action is the action id, the artist_id, the time the action was taken(created_at) as well as the artist name, and what led the user to sign up (program)"
   ]
  },
  {
   "cell_type": "code",
   "execution_count": 7,
   "metadata": {},
   "outputs": [
    {
     "name": "stdout",
     "output_type": "stream",
     "text": [
      "<class 'pandas.core.frame.DataFrame'>\n",
      "RangeIndex: 105 entries, 0 to 104\n",
      "Data columns (total 6 columns):\n",
      " #   Column      Non-Null Count  Dtype         \n",
      "---  ------      --------------  -----         \n",
      " 0   index       105 non-null    int64         \n",
      " 1   action_id   105 non-null    object        \n",
      " 2   event_key   105 non-null    object        \n",
      " 3   artist_id   105 non-null    object        \n",
      " 4   event_data  105 non-null    object        \n",
      " 5   created_at  105 non-null    datetime64[ns]\n",
      "dtypes: datetime64[ns](1), int64(1), object(4)\n",
      "memory usage: 5.0+ KB\n"
     ]
    },
    {
     "data": {
      "text/html": [
       "<div>\n",
       "<style scoped>\n",
       "    .dataframe tbody tr th:only-of-type {\n",
       "        vertical-align: middle;\n",
       "    }\n",
       "\n",
       "    .dataframe tbody tr th {\n",
       "        vertical-align: top;\n",
       "    }\n",
       "\n",
       "    .dataframe thead th {\n",
       "        text-align: right;\n",
       "    }\n",
       "</style>\n",
       "<table border=\"1\" class=\"dataframe\">\n",
       "  <thead>\n",
       "    <tr style=\"text-align: right;\">\n",
       "      <th></th>\n",
       "      <th>index</th>\n",
       "      <th>action_id</th>\n",
       "      <th>event_key</th>\n",
       "      <th>artist_id</th>\n",
       "      <th>created_at</th>\n",
       "      <th>name</th>\n",
       "      <th>program</th>\n",
       "    </tr>\n",
       "  </thead>\n",
       "  <tbody>\n",
       "    <tr>\n",
       "      <th>0</th>\n",
       "      <td>0</td>\n",
       "      <td>uuidob00001</td>\n",
       "      <td>account_created</td>\n",
       "      <td>agkk5ivISsPF0uw</td>\n",
       "      <td>2021-09-22 01:55:00</td>\n",
       "      <td>artist_1</td>\n",
       "      <td>word_of_mouth</td>\n",
       "    </tr>\n",
       "    <tr>\n",
       "      <th>1</th>\n",
       "      <td>1</td>\n",
       "      <td>uuidob00002</td>\n",
       "      <td>account_created</td>\n",
       "      <td>UoBcZlkZsZxfnLA</td>\n",
       "      <td>2021-09-22 07:57:00</td>\n",
       "      <td>artist_2</td>\n",
       "      <td>referral</td>\n",
       "    </tr>\n",
       "    <tr>\n",
       "      <th>2</th>\n",
       "      <td>2</td>\n",
       "      <td>uuidob00003</td>\n",
       "      <td>account_created</td>\n",
       "      <td>RT2qk6qKwuNLnkQ</td>\n",
       "      <td>2021-09-22 13:51:00</td>\n",
       "      <td>artist_3</td>\n",
       "      <td>nm_sourcing</td>\n",
       "    </tr>\n",
       "    <tr>\n",
       "      <th>3</th>\n",
       "      <td>3</td>\n",
       "      <td>uuidob00004</td>\n",
       "      <td>account_created</td>\n",
       "      <td>ySbRnUV23pcX5dw</td>\n",
       "      <td>2021-09-22 15:56:00</td>\n",
       "      <td>artist_4</td>\n",
       "      <td>nm_sourcing</td>\n",
       "    </tr>\n",
       "    <tr>\n",
       "      <th>4</th>\n",
       "      <td>4</td>\n",
       "      <td>uuidob00005</td>\n",
       "      <td>account_created</td>\n",
       "      <td>fgaGxHamsFiWXMg</td>\n",
       "      <td>2021-09-22 21:44:00</td>\n",
       "      <td>artist_5</td>\n",
       "      <td>referral</td>\n",
       "    </tr>\n",
       "  </tbody>\n",
       "</table>\n",
       "</div>"
      ],
      "text/plain": [
       "   index    action_id        event_key        artist_id          created_at  \\\n",
       "0      0  uuidob00001  account_created  agkk5ivISsPF0uw 2021-09-22 01:55:00   \n",
       "1      1  uuidob00002  account_created  UoBcZlkZsZxfnLA 2021-09-22 07:57:00   \n",
       "2      2  uuidob00003  account_created  RT2qk6qKwuNLnkQ 2021-09-22 13:51:00   \n",
       "3      3  uuidob00004  account_created  ySbRnUV23pcX5dw 2021-09-22 15:56:00   \n",
       "4      4  uuidob00005  account_created  fgaGxHamsFiWXMg 2021-09-22 21:44:00   \n",
       "\n",
       "       name        program  \n",
       "0  artist_1  word_of_mouth  \n",
       "1  artist_2       referral  \n",
       "2  artist_3    nm_sourcing  \n",
       "3  artist_4    nm_sourcing  \n",
       "4  artist_5       referral  "
      ]
     },
     "execution_count": 7,
     "metadata": {},
     "output_type": "execute_result"
    }
   ],
   "source": [
    "\n",
    "#Only calling data associated with \n",
    "account_created = df[df[\"event_key\"] == \"account_created\"].reset_index()\n",
    "account_created.info()\n",
    "#Creating emply lists to hold names and programs\n",
    "name = []\n",
    "program = []\n",
    "\n",
    "for event in account_created[\"event_data\"]:\n",
    "    event_dict = json.loads(event)\n",
    "    name.append(event_dict[\"name\"])\n",
    "    program.append(event_dict[\"program\"])\n",
    "\n",
    "# append to the dataframe\n",
    "name1 = pd.Series(name)\n",
    "account_created[\"name\"] = name1\n",
    "program1 = pd.Series(program)\n",
    "account_created[\"program\"] = program1\n",
    "\n",
    "# drop the event data feature\n",
    "account_created.drop([\"event_data\"], axis = 1, inplace = True)\n",
    "\n",
    "account_created.head()\n",
    "\n",
    "## get the count of each type of prgrams beign used \n",
    "\n",
    "account_created[account_created.program == 'word_of_mouth'].shape[0]\n",
    "\n",
    "# There are 10 accounts that were created due to word of mouth \n",
    "\n",
    "account_created[account_created.program == 'nm_sourcing'].shape[0]\n",
    "\n",
    "# There are 52 accounts that were created due to New Music Sourcing\n",
    "\n",
    "account_created[account_created.program == 'referral'].shape[0]\n",
    "\n",
    "#There were 43 accounts that were created due to referrals\n",
    "\n",
    "account_created.head()\n"
   ]
  },
  {
   "cell_type": "code",
   "execution_count": 9,
   "metadata": {},
   "outputs": [
    {
     "data": {
      "application/vnd.plotly.v1+json": {
       "config": {
        "plotlyServerURL": "https://plot.ly"
       },
       "data": [
        {
         "labels": [
          "Word Of Mouth",
          "Referral",
          "Next Music Sourcing"
         ],
         "type": "pie",
         "values": [
          10,
          43,
          52
         ]
        }
       ],
       "layout": {
        "template": {
         "data": {
          "bar": [
           {
            "error_x": {
             "color": "#2a3f5f"
            },
            "error_y": {
             "color": "#2a3f5f"
            },
            "marker": {
             "line": {
              "color": "#E5ECF6",
              "width": 0.5
             },
             "pattern": {
              "fillmode": "overlay",
              "size": 10,
              "solidity": 0.2
             }
            },
            "type": "bar"
           }
          ],
          "barpolar": [
           {
            "marker": {
             "line": {
              "color": "#E5ECF6",
              "width": 0.5
             },
             "pattern": {
              "fillmode": "overlay",
              "size": 10,
              "solidity": 0.2
             }
            },
            "type": "barpolar"
           }
          ],
          "carpet": [
           {
            "aaxis": {
             "endlinecolor": "#2a3f5f",
             "gridcolor": "white",
             "linecolor": "white",
             "minorgridcolor": "white",
             "startlinecolor": "#2a3f5f"
            },
            "baxis": {
             "endlinecolor": "#2a3f5f",
             "gridcolor": "white",
             "linecolor": "white",
             "minorgridcolor": "white",
             "startlinecolor": "#2a3f5f"
            },
            "type": "carpet"
           }
          ],
          "choropleth": [
           {
            "colorbar": {
             "outlinewidth": 0,
             "ticks": ""
            },
            "type": "choropleth"
           }
          ],
          "contour": [
           {
            "colorbar": {
             "outlinewidth": 0,
             "ticks": ""
            },
            "colorscale": [
             [
              0,
              "#0d0887"
             ],
             [
              0.1111111111111111,
              "#46039f"
             ],
             [
              0.2222222222222222,
              "#7201a8"
             ],
             [
              0.3333333333333333,
              "#9c179e"
             ],
             [
              0.4444444444444444,
              "#bd3786"
             ],
             [
              0.5555555555555556,
              "#d8576b"
             ],
             [
              0.6666666666666666,
              "#ed7953"
             ],
             [
              0.7777777777777778,
              "#fb9f3a"
             ],
             [
              0.8888888888888888,
              "#fdca26"
             ],
             [
              1,
              "#f0f921"
             ]
            ],
            "type": "contour"
           }
          ],
          "contourcarpet": [
           {
            "colorbar": {
             "outlinewidth": 0,
             "ticks": ""
            },
            "type": "contourcarpet"
           }
          ],
          "heatmap": [
           {
            "colorbar": {
             "outlinewidth": 0,
             "ticks": ""
            },
            "colorscale": [
             [
              0,
              "#0d0887"
             ],
             [
              0.1111111111111111,
              "#46039f"
             ],
             [
              0.2222222222222222,
              "#7201a8"
             ],
             [
              0.3333333333333333,
              "#9c179e"
             ],
             [
              0.4444444444444444,
              "#bd3786"
             ],
             [
              0.5555555555555556,
              "#d8576b"
             ],
             [
              0.6666666666666666,
              "#ed7953"
             ],
             [
              0.7777777777777778,
              "#fb9f3a"
             ],
             [
              0.8888888888888888,
              "#fdca26"
             ],
             [
              1,
              "#f0f921"
             ]
            ],
            "type": "heatmap"
           }
          ],
          "heatmapgl": [
           {
            "colorbar": {
             "outlinewidth": 0,
             "ticks": ""
            },
            "colorscale": [
             [
              0,
              "#0d0887"
             ],
             [
              0.1111111111111111,
              "#46039f"
             ],
             [
              0.2222222222222222,
              "#7201a8"
             ],
             [
              0.3333333333333333,
              "#9c179e"
             ],
             [
              0.4444444444444444,
              "#bd3786"
             ],
             [
              0.5555555555555556,
              "#d8576b"
             ],
             [
              0.6666666666666666,
              "#ed7953"
             ],
             [
              0.7777777777777778,
              "#fb9f3a"
             ],
             [
              0.8888888888888888,
              "#fdca26"
             ],
             [
              1,
              "#f0f921"
             ]
            ],
            "type": "heatmapgl"
           }
          ],
          "histogram": [
           {
            "marker": {
             "pattern": {
              "fillmode": "overlay",
              "size": 10,
              "solidity": 0.2
             }
            },
            "type": "histogram"
           }
          ],
          "histogram2d": [
           {
            "colorbar": {
             "outlinewidth": 0,
             "ticks": ""
            },
            "colorscale": [
             [
              0,
              "#0d0887"
             ],
             [
              0.1111111111111111,
              "#46039f"
             ],
             [
              0.2222222222222222,
              "#7201a8"
             ],
             [
              0.3333333333333333,
              "#9c179e"
             ],
             [
              0.4444444444444444,
              "#bd3786"
             ],
             [
              0.5555555555555556,
              "#d8576b"
             ],
             [
              0.6666666666666666,
              "#ed7953"
             ],
             [
              0.7777777777777778,
              "#fb9f3a"
             ],
             [
              0.8888888888888888,
              "#fdca26"
             ],
             [
              1,
              "#f0f921"
             ]
            ],
            "type": "histogram2d"
           }
          ],
          "histogram2dcontour": [
           {
            "colorbar": {
             "outlinewidth": 0,
             "ticks": ""
            },
            "colorscale": [
             [
              0,
              "#0d0887"
             ],
             [
              0.1111111111111111,
              "#46039f"
             ],
             [
              0.2222222222222222,
              "#7201a8"
             ],
             [
              0.3333333333333333,
              "#9c179e"
             ],
             [
              0.4444444444444444,
              "#bd3786"
             ],
             [
              0.5555555555555556,
              "#d8576b"
             ],
             [
              0.6666666666666666,
              "#ed7953"
             ],
             [
              0.7777777777777778,
              "#fb9f3a"
             ],
             [
              0.8888888888888888,
              "#fdca26"
             ],
             [
              1,
              "#f0f921"
             ]
            ],
            "type": "histogram2dcontour"
           }
          ],
          "mesh3d": [
           {
            "colorbar": {
             "outlinewidth": 0,
             "ticks": ""
            },
            "type": "mesh3d"
           }
          ],
          "parcoords": [
           {
            "line": {
             "colorbar": {
              "outlinewidth": 0,
              "ticks": ""
             }
            },
            "type": "parcoords"
           }
          ],
          "pie": [
           {
            "automargin": true,
            "type": "pie"
           }
          ],
          "scatter": [
           {
            "marker": {
             "colorbar": {
              "outlinewidth": 0,
              "ticks": ""
             }
            },
            "type": "scatter"
           }
          ],
          "scatter3d": [
           {
            "line": {
             "colorbar": {
              "outlinewidth": 0,
              "ticks": ""
             }
            },
            "marker": {
             "colorbar": {
              "outlinewidth": 0,
              "ticks": ""
             }
            },
            "type": "scatter3d"
           }
          ],
          "scattercarpet": [
           {
            "marker": {
             "colorbar": {
              "outlinewidth": 0,
              "ticks": ""
             }
            },
            "type": "scattercarpet"
           }
          ],
          "scattergeo": [
           {
            "marker": {
             "colorbar": {
              "outlinewidth": 0,
              "ticks": ""
             }
            },
            "type": "scattergeo"
           }
          ],
          "scattergl": [
           {
            "marker": {
             "colorbar": {
              "outlinewidth": 0,
              "ticks": ""
             }
            },
            "type": "scattergl"
           }
          ],
          "scattermapbox": [
           {
            "marker": {
             "colorbar": {
              "outlinewidth": 0,
              "ticks": ""
             }
            },
            "type": "scattermapbox"
           }
          ],
          "scatterpolar": [
           {
            "marker": {
             "colorbar": {
              "outlinewidth": 0,
              "ticks": ""
             }
            },
            "type": "scatterpolar"
           }
          ],
          "scatterpolargl": [
           {
            "marker": {
             "colorbar": {
              "outlinewidth": 0,
              "ticks": ""
             }
            },
            "type": "scatterpolargl"
           }
          ],
          "scatterternary": [
           {
            "marker": {
             "colorbar": {
              "outlinewidth": 0,
              "ticks": ""
             }
            },
            "type": "scatterternary"
           }
          ],
          "surface": [
           {
            "colorbar": {
             "outlinewidth": 0,
             "ticks": ""
            },
            "colorscale": [
             [
              0,
              "#0d0887"
             ],
             [
              0.1111111111111111,
              "#46039f"
             ],
             [
              0.2222222222222222,
              "#7201a8"
             ],
             [
              0.3333333333333333,
              "#9c179e"
             ],
             [
              0.4444444444444444,
              "#bd3786"
             ],
             [
              0.5555555555555556,
              "#d8576b"
             ],
             [
              0.6666666666666666,
              "#ed7953"
             ],
             [
              0.7777777777777778,
              "#fb9f3a"
             ],
             [
              0.8888888888888888,
              "#fdca26"
             ],
             [
              1,
              "#f0f921"
             ]
            ],
            "type": "surface"
           }
          ],
          "table": [
           {
            "cells": {
             "fill": {
              "color": "#EBF0F8"
             },
             "line": {
              "color": "white"
             }
            },
            "header": {
             "fill": {
              "color": "#C8D4E3"
             },
             "line": {
              "color": "white"
             }
            },
            "type": "table"
           }
          ]
         },
         "layout": {
          "annotationdefaults": {
           "arrowcolor": "#2a3f5f",
           "arrowhead": 0,
           "arrowwidth": 1
          },
          "autotypenumbers": "strict",
          "coloraxis": {
           "colorbar": {
            "outlinewidth": 0,
            "ticks": ""
           }
          },
          "colorscale": {
           "diverging": [
            [
             0,
             "#8e0152"
            ],
            [
             0.1,
             "#c51b7d"
            ],
            [
             0.2,
             "#de77ae"
            ],
            [
             0.3,
             "#f1b6da"
            ],
            [
             0.4,
             "#fde0ef"
            ],
            [
             0.5,
             "#f7f7f7"
            ],
            [
             0.6,
             "#e6f5d0"
            ],
            [
             0.7,
             "#b8e186"
            ],
            [
             0.8,
             "#7fbc41"
            ],
            [
             0.9,
             "#4d9221"
            ],
            [
             1,
             "#276419"
            ]
           ],
           "sequential": [
            [
             0,
             "#0d0887"
            ],
            [
             0.1111111111111111,
             "#46039f"
            ],
            [
             0.2222222222222222,
             "#7201a8"
            ],
            [
             0.3333333333333333,
             "#9c179e"
            ],
            [
             0.4444444444444444,
             "#bd3786"
            ],
            [
             0.5555555555555556,
             "#d8576b"
            ],
            [
             0.6666666666666666,
             "#ed7953"
            ],
            [
             0.7777777777777778,
             "#fb9f3a"
            ],
            [
             0.8888888888888888,
             "#fdca26"
            ],
            [
             1,
             "#f0f921"
            ]
           ],
           "sequentialminus": [
            [
             0,
             "#0d0887"
            ],
            [
             0.1111111111111111,
             "#46039f"
            ],
            [
             0.2222222222222222,
             "#7201a8"
            ],
            [
             0.3333333333333333,
             "#9c179e"
            ],
            [
             0.4444444444444444,
             "#bd3786"
            ],
            [
             0.5555555555555556,
             "#d8576b"
            ],
            [
             0.6666666666666666,
             "#ed7953"
            ],
            [
             0.7777777777777778,
             "#fb9f3a"
            ],
            [
             0.8888888888888888,
             "#fdca26"
            ],
            [
             1,
             "#f0f921"
            ]
           ]
          },
          "colorway": [
           "#636efa",
           "#EF553B",
           "#00cc96",
           "#ab63fa",
           "#FFA15A",
           "#19d3f3",
           "#FF6692",
           "#B6E880",
           "#FF97FF",
           "#FECB52"
          ],
          "font": {
           "color": "#2a3f5f"
          },
          "geo": {
           "bgcolor": "white",
           "lakecolor": "white",
           "landcolor": "#E5ECF6",
           "showlakes": true,
           "showland": true,
           "subunitcolor": "white"
          },
          "hoverlabel": {
           "align": "left"
          },
          "hovermode": "closest",
          "mapbox": {
           "style": "light"
          },
          "paper_bgcolor": "white",
          "plot_bgcolor": "#E5ECF6",
          "polar": {
           "angularaxis": {
            "gridcolor": "white",
            "linecolor": "white",
            "ticks": ""
           },
           "bgcolor": "#E5ECF6",
           "radialaxis": {
            "gridcolor": "white",
            "linecolor": "white",
            "ticks": ""
           }
          },
          "scene": {
           "xaxis": {
            "backgroundcolor": "#E5ECF6",
            "gridcolor": "white",
            "gridwidth": 2,
            "linecolor": "white",
            "showbackground": true,
            "ticks": "",
            "zerolinecolor": "white"
           },
           "yaxis": {
            "backgroundcolor": "#E5ECF6",
            "gridcolor": "white",
            "gridwidth": 2,
            "linecolor": "white",
            "showbackground": true,
            "ticks": "",
            "zerolinecolor": "white"
           },
           "zaxis": {
            "backgroundcolor": "#E5ECF6",
            "gridcolor": "white",
            "gridwidth": 2,
            "linecolor": "white",
            "showbackground": true,
            "ticks": "",
            "zerolinecolor": "white"
           }
          },
          "shapedefaults": {
           "line": {
            "color": "#2a3f5f"
           }
          },
          "ternary": {
           "aaxis": {
            "gridcolor": "white",
            "linecolor": "white",
            "ticks": ""
           },
           "baxis": {
            "gridcolor": "white",
            "linecolor": "white",
            "ticks": ""
           },
           "bgcolor": "#E5ECF6",
           "caxis": {
            "gridcolor": "white",
            "linecolor": "white",
            "ticks": ""
           }
          },
          "title": {
           "x": 0.05
          },
          "xaxis": {
           "automargin": true,
           "gridcolor": "white",
           "linecolor": "white",
           "ticks": "",
           "title": {
            "standoff": 15
           },
           "zerolinecolor": "white",
           "zerolinewidth": 2
          },
          "yaxis": {
           "automargin": true,
           "gridcolor": "white",
           "linecolor": "white",
           "ticks": "",
           "title": {
            "standoff": 15
           },
           "zerolinecolor": "white",
           "zerolinewidth": 2
          }
         }
        }
       }
      }
     },
     "metadata": {},
     "output_type": "display_data"
    }
   ],
   "source": [
    "\n",
    "labels = ['Word Of Mouth','Referral','Next Music Sourcing']\n",
    "values = [10, 43, 52]\n",
    "\n",
    "fig = go.Figure(data=[go.Pie(labels=labels, values=values)])\n",
    "fig.show()"
   ]
  },
  {
   "cell_type": "markdown",
   "metadata": {},
   "source": [
    "### Next music sourcing accounts for almost half of the accounts created"
   ]
  },
  {
   "cell_type": "markdown",
   "metadata": {},
   "source": [
    "## Next is working on currency given\n",
    "- The average ammount of currency given is 99256.04\n",
    "- The ammount of currency that is given the most is 32 \n",
    "- The total ammount of currency that has been given is 4484089898 \n"
   ]
  },
  {
   "cell_type": "code",
   "execution_count": 66,
   "metadata": {},
   "outputs": [
    {
     "data": {
      "text/plain": [
       "112102.24745000001"
      ]
     },
     "execution_count": 66,
     "metadata": {},
     "output_type": "execute_result"
    }
   ],
   "source": [
    "currency_given = df[df[\"event_key\"] == \"currency_given\"].reset_index()\n",
    "# Creating empty lists for user_id and ammount\n",
    "user_id = [] \n",
    "amount = [] \n",
    "\n",
    "for event in currency_given[\"event_data\"]:\n",
    "    event_dict = json.loads(event)\n",
    "    user_id.append(event_dict[\"user_id\"])\n",
    "    amount.append(event_dict[\"amount\"])\n",
    "    \n",
    "# drop the index variable\n",
    "currency_given.drop(\"index\", axis = 1, inplace = True)\n",
    "    \n",
    "# append to the dataframe\n",
    "user_id1 = pd.Series(user_id)\n",
    "currency_given[\"user_id\"] = user_id1\n",
    "amount1 = pd.Series(amount)\n",
    "currency_given[\"amount\"] = amount1\n",
    "\n",
    "# drop the event data feature\n",
    "currency_given.drop([\"event_data\"], axis = 1, inplace = True)\n",
    "\n",
    "#Change the ammount value from an object to numeric values\n",
    "currency_given[\"amount\"] = pd.to_numeric(currency_given[\"amount\"])\n",
    "\n",
    "currency_given[\"amount\"].mean()\n",
    "# The average ammount given is 99256.03510635943\n",
    "\n",
    "currency_given[\"amount\"].mode()\n",
    "# The ammount that is given the most is 32\n",
    "\n",
    "currency_given[\"amount\"].max()\n",
    "# The higest ammount given is 1001500375\n",
    "\n",
    "currency_given[\"amount\"].min()\n",
    "# The lowest ammount is 32 wich is also the most common \n",
    "\n",
    "currency_given[\"amount\"].sum()\n",
    "#4484089898\n",
    "\n",
    "4484089898 * 0.00005\n",
    "\n",
    "224204.49490000002* .5\n",
    "\n"
   ]
  },
  {
   "cell_type": "markdown",
   "metadata": {},
   "source": [
    "# Shows \n",
    "- Get average show time \n",
    "- Average Viewers: 51.1115\n",
    "- Get average returning fans:11.7595"
   ]
  },
  {
   "cell_type": "code",
   "execution_count": 57,
   "metadata": {},
   "outputs": [
    {
     "data": {
      "text/plain": [
       "11.7595"
      ]
     },
     "execution_count": 57,
     "metadata": {},
     "output_type": "execute_result"
    }
   ],
   "source": [
    "# SHOW\n",
    "show = df[df[\"event_key\"] == \"show\"].reset_index()\n",
    "# fill the null values in event_data\n",
    "show[\"event_data\"].fillna(method = \"ffill\",inplace = True)\n",
    "\n",
    "start = [] #empty list to store start \n",
    "end = [] #empty list to store end\n",
    "viewers = []\n",
    "returning_fans = []\n",
    "\n",
    "for event in show[\"event_data\"]:\n",
    "    event_dict = json.loads(event)\n",
    "    start.append(event_dict[\"start\"])\n",
    "    end.append(event_dict[\"end\"])\n",
    "    viewers.append(event_dict[\"viewers\"])\n",
    "    returning_fans.append(event_dict[\"returning_fans\"])\n",
    "    \n",
    "# drop the index variable\n",
    "show.drop(\"index\", axis = 1, inplace = True)\n",
    "\n",
    "# append to the dataframe\n",
    "start1 = pd.Series(start)\n",
    "show[\"start\"] = start1\n",
    "end1 = pd.Series(end)\n",
    "show[\"end\"] = end1\n",
    "viewers1 = pd.Series(viewers)\n",
    "show[\"viewers\"] = viewers1\n",
    "returning_fans1 = pd.Series(returning_fans)\n",
    "show['returning_fans'] = returning_fans\n",
    "\n",
    "# drop the event data feature\n",
    "show.drop([\"event_data\"], axis = 1, inplace = True)\n",
    " \n",
    "# Change viewers and returning fans to an integer in order to find the mean\n",
    "show[\"viewers\"] = pd.to_numeric(show[\"viewers\"])\n",
    "show[\"returning_fans\"] = pd.to_numeric(show[\"returning_fans\"])\n",
    "# Find the mean of viewers and returnign fans\n",
    "\n",
    "show[\"viewers\"].mean()\n",
    "show[\"returning_fans\"].mean()\n",
    "\n"
   ]
  },
  {
   "cell_type": "markdown",
   "metadata": {},
   "source": [
    "## Level 1 adjust"
   ]
  },
  {
   "cell_type": "code",
   "execution_count": 49,
   "metadata": {},
   "outputs": [
    {
     "data": {
      "text/html": [
       "<div>\n",
       "<style scoped>\n",
       "    .dataframe tbody tr th:only-of-type {\n",
       "        vertical-align: middle;\n",
       "    }\n",
       "\n",
       "    .dataframe tbody tr th {\n",
       "        vertical-align: top;\n",
       "    }\n",
       "\n",
       "    .dataframe thead th {\n",
       "        text-align: right;\n",
       "    }\n",
       "</style>\n",
       "<table border=\"1\" class=\"dataframe\">\n",
       "  <thead>\n",
       "    <tr style=\"text-align: right;\">\n",
       "      <th></th>\n",
       "      <th>action_id</th>\n",
       "      <th>event_key</th>\n",
       "      <th>artist_id</th>\n",
       "      <th>created_at</th>\n",
       "      <th>level</th>\n",
       "    </tr>\n",
       "  </thead>\n",
       "  <tbody>\n",
       "    <tr>\n",
       "      <th>0</th>\n",
       "      <td>uuidtrh0000191</td>\n",
       "      <td>level_adjust_1</td>\n",
       "      <td>TrZmv7nSYD6cDHw</td>\n",
       "      <td>2021-10-02 00:02:14</td>\n",
       "      <td>39</td>\n",
       "    </tr>\n",
       "    <tr>\n",
       "      <th>1</th>\n",
       "      <td>uuidtrh000075</td>\n",
       "      <td>level_adjust_1</td>\n",
       "      <td>AElTYFky7ng2Usw</td>\n",
       "      <td>2021-10-02 00:02:15</td>\n",
       "      <td>35</td>\n",
       "    </tr>\n",
       "    <tr>\n",
       "      <th>2</th>\n",
       "      <td>uuidtrh000059</td>\n",
       "      <td>level_adjust_1</td>\n",
       "      <td>agkk5ivISsPF0uw</td>\n",
       "      <td>2021-10-02 00:02:17</td>\n",
       "      <td>35</td>\n",
       "    </tr>\n",
       "    <tr>\n",
       "      <th>3</th>\n",
       "      <td>uuidtrh000091</td>\n",
       "      <td>level_adjust_1</td>\n",
       "      <td>ncig8EDlho5uNAw</td>\n",
       "      <td>2021-10-02 00:02:20</td>\n",
       "      <td>39</td>\n",
       "    </tr>\n",
       "    <tr>\n",
       "      <th>4</th>\n",
       "      <td>uuidtrh00001</td>\n",
       "      <td>level_adjust_1</td>\n",
       "      <td>2NJDWIYXDBIF9Jg</td>\n",
       "      <td>2021-10-02 00:02:22</td>\n",
       "      <td>31</td>\n",
       "    </tr>\n",
       "    <tr>\n",
       "      <th>...</th>\n",
       "      <td>...</td>\n",
       "      <td>...</td>\n",
       "      <td>...</td>\n",
       "      <td>...</td>\n",
       "      <td>...</td>\n",
       "    </tr>\n",
       "    <tr>\n",
       "      <th>111</th>\n",
       "      <td>uuidtrh0000203</td>\n",
       "      <td>level_adjust_1</td>\n",
       "      <td>jiaQplTLz3Oy1ng</td>\n",
       "      <td>2021-10-23 00:29:59</td>\n",
       "      <td>17</td>\n",
       "    </tr>\n",
       "    <tr>\n",
       "      <th>112</th>\n",
       "      <td>uuidtrh0000148</td>\n",
       "      <td>level_adjust_1</td>\n",
       "      <td>QZpgyBTrlx94NBA</td>\n",
       "      <td>2021-10-23 00:30:45</td>\n",
       "      <td>15</td>\n",
       "    </tr>\n",
       "    <tr>\n",
       "      <th>113</th>\n",
       "      <td>uuidtrh0000103</td>\n",
       "      <td>level_adjust_1</td>\n",
       "      <td>G0NPMQaGsPVAQ4w</td>\n",
       "      <td>2021-10-23 00:31:54</td>\n",
       "      <td>13</td>\n",
       "    </tr>\n",
       "    <tr>\n",
       "      <th>114</th>\n",
       "      <td>uuidtrh0000161</td>\n",
       "      <td>level_adjust_1</td>\n",
       "      <td>YBxe2AIIUz635pA</td>\n",
       "      <td>2021-10-23 00:32:03</td>\n",
       "      <td>17</td>\n",
       "    </tr>\n",
       "    <tr>\n",
       "      <th>115</th>\n",
       "      <td>uuidtrh000029</td>\n",
       "      <td>level_adjust_1</td>\n",
       "      <td>Nsp74QCRITJgSuA</td>\n",
       "      <td>2021-10-23 00:35:36</td>\n",
       "      <td>7</td>\n",
       "    </tr>\n",
       "  </tbody>\n",
       "</table>\n",
       "<p>116 rows × 5 columns</p>\n",
       "</div>"
      ],
      "text/plain": [
       "          action_id       event_key        artist_id          created_at level\n",
       "0    uuidtrh0000191  level_adjust_1  TrZmv7nSYD6cDHw 2021-10-02 00:02:14    39\n",
       "1     uuidtrh000075  level_adjust_1  AElTYFky7ng2Usw 2021-10-02 00:02:15    35\n",
       "2     uuidtrh000059  level_adjust_1  agkk5ivISsPF0uw 2021-10-02 00:02:17    35\n",
       "3     uuidtrh000091  level_adjust_1  ncig8EDlho5uNAw 2021-10-02 00:02:20    39\n",
       "4      uuidtrh00001  level_adjust_1  2NJDWIYXDBIF9Jg 2021-10-02 00:02:22    31\n",
       "..              ...             ...              ...                 ...   ...\n",
       "111  uuidtrh0000203  level_adjust_1  jiaQplTLz3Oy1ng 2021-10-23 00:29:59    17\n",
       "112  uuidtrh0000148  level_adjust_1  QZpgyBTrlx94NBA 2021-10-23 00:30:45    15\n",
       "113  uuidtrh0000103  level_adjust_1  G0NPMQaGsPVAQ4w 2021-10-23 00:31:54    13\n",
       "114  uuidtrh0000161  level_adjust_1  YBxe2AIIUz635pA 2021-10-23 00:32:03    17\n",
       "115   uuidtrh000029  level_adjust_1  Nsp74QCRITJgSuA 2021-10-23 00:35:36     7\n",
       "\n",
       "[116 rows x 5 columns]"
      ]
     },
     "execution_count": 49,
     "metadata": {},
     "output_type": "execute_result"
    }
   ],
   "source": [
    "# level_adjust_1\n",
    "level_adjust_1 = df[df[\"event_key\"] == \"level_adjust_1\"].reset_index()\n",
    "# fill the null values in event_data\n",
    "level_adjust_1[\"event_data\"].fillna(method = \"ffill\",inplace = True)\n",
    "\n",
    "level = [] # to store level\n",
    "\n",
    "for event in level_adjust_1[\"event_data\"]:\n",
    "    event_dict = json.loads(event)\n",
    "    level.append(event_dict[\"level\"])\n",
    "    \n",
    "# drop the index variable\n",
    "level_adjust_1.drop(\"index\", axis = 1, inplace = True)\n",
    "\n",
    "# append to the dataframe\n",
    "level1 = pd.Series(level)\n",
    "level_adjust_1[\"level\"] = level1\n",
    "\n",
    "# drop the event data feature\n",
    "level_adjust_1.drop([\"event_data\"], axis = 1, inplace = True)\n",
    " \n",
    "# confirm the whole operation\n",
    "level_adjust_1"
   ]
  },
  {
   "cell_type": "markdown",
   "metadata": {},
   "source": [
    "## Account Update"
   ]
  },
  {
   "cell_type": "code",
   "execution_count": 50,
   "metadata": {},
   "outputs": [
    {
     "data": {
      "text/html": [
       "<div>\n",
       "<style scoped>\n",
       "    .dataframe tbody tr th:only-of-type {\n",
       "        vertical-align: middle;\n",
       "    }\n",
       "\n",
       "    .dataframe tbody tr th {\n",
       "        vertical-align: top;\n",
       "    }\n",
       "\n",
       "    .dataframe thead th {\n",
       "        text-align: right;\n",
       "    }\n",
       "</style>\n",
       "<table border=\"1\" class=\"dataframe\">\n",
       "  <thead>\n",
       "    <tr style=\"text-align: right;\">\n",
       "      <th></th>\n",
       "      <th>action_id</th>\n",
       "      <th>event_key</th>\n",
       "      <th>artist_id</th>\n",
       "      <th>created_at</th>\n",
       "      <th>ip</th>\n",
       "    </tr>\n",
       "  </thead>\n",
       "  <tbody>\n",
       "    <tr>\n",
       "      <th>0</th>\n",
       "      <td>uuidtrh0000220</td>\n",
       "      <td>account_update</td>\n",
       "      <td>TrZmv7nSYD6cDHw</td>\n",
       "      <td>2021-10-02 00:02:14</td>\n",
       "      <td>39</td>\n",
       "    </tr>\n",
       "    <tr>\n",
       "      <th>1</th>\n",
       "      <td>uuidtrh0000104</td>\n",
       "      <td>account_update</td>\n",
       "      <td>AElTYFky7ng2Usw</td>\n",
       "      <td>2021-10-02 00:02:15</td>\n",
       "      <td>35</td>\n",
       "    </tr>\n",
       "    <tr>\n",
       "      <th>2</th>\n",
       "      <td>uuidtrh0000204</td>\n",
       "      <td>account_update</td>\n",
       "      <td>agkk5ivISsPF0uw</td>\n",
       "      <td>2021-10-02 00:02:17</td>\n",
       "      <td>35</td>\n",
       "    </tr>\n",
       "    <tr>\n",
       "      <th>3</th>\n",
       "      <td>uuidtrh0000120</td>\n",
       "      <td>account_update</td>\n",
       "      <td>ncig8EDlho5uNAw</td>\n",
       "      <td>2021-10-02 00:02:20</td>\n",
       "      <td>39</td>\n",
       "    </tr>\n",
       "    <tr>\n",
       "      <th>4</th>\n",
       "      <td>uuidtrh000030</td>\n",
       "      <td>account_update</td>\n",
       "      <td>2NJDWIYXDBIF9Jg</td>\n",
       "      <td>2021-10-02 00:02:22</td>\n",
       "      <td>31</td>\n",
       "    </tr>\n",
       "    <tr>\n",
       "      <th>...</th>\n",
       "      <td>...</td>\n",
       "      <td>...</td>\n",
       "      <td>...</td>\n",
       "      <td>...</td>\n",
       "      <td>...</td>\n",
       "    </tr>\n",
       "    <tr>\n",
       "      <th>111</th>\n",
       "      <td>uuidtrh0000232</td>\n",
       "      <td>account_update</td>\n",
       "      <td>jiaQplTLz3Oy1ng</td>\n",
       "      <td>2021-10-23 00:29:59</td>\n",
       "      <td>17</td>\n",
       "    </tr>\n",
       "    <tr>\n",
       "      <th>112</th>\n",
       "      <td>uuidtrh0000177</td>\n",
       "      <td>account_update</td>\n",
       "      <td>QZpgyBTrlx94NBA</td>\n",
       "      <td>2021-10-23 00:30:45</td>\n",
       "      <td>15</td>\n",
       "    </tr>\n",
       "    <tr>\n",
       "      <th>113</th>\n",
       "      <td>uuidtrh0000132</td>\n",
       "      <td>account_update</td>\n",
       "      <td>G0NPMQaGsPVAQ4w</td>\n",
       "      <td>2021-10-23 00:31:54</td>\n",
       "      <td>13</td>\n",
       "    </tr>\n",
       "    <tr>\n",
       "      <th>114</th>\n",
       "      <td>uuidtrh0000190</td>\n",
       "      <td>account_update</td>\n",
       "      <td>YBxe2AIIUz635pA</td>\n",
       "      <td>2021-10-23 00:32:03</td>\n",
       "      <td>17</td>\n",
       "    </tr>\n",
       "    <tr>\n",
       "      <th>115</th>\n",
       "      <td>uuidtrh000058</td>\n",
       "      <td>account_update</td>\n",
       "      <td>Nsp74QCRITJgSuA</td>\n",
       "      <td>2021-10-23 00:35:36</td>\n",
       "      <td>7</td>\n",
       "    </tr>\n",
       "  </tbody>\n",
       "</table>\n",
       "<p>116 rows × 5 columns</p>\n",
       "</div>"
      ],
      "text/plain": [
       "          action_id       event_key        artist_id          created_at  ip\n",
       "0    uuidtrh0000220  account_update  TrZmv7nSYD6cDHw 2021-10-02 00:02:14  39\n",
       "1    uuidtrh0000104  account_update  AElTYFky7ng2Usw 2021-10-02 00:02:15  35\n",
       "2    uuidtrh0000204  account_update  agkk5ivISsPF0uw 2021-10-02 00:02:17  35\n",
       "3    uuidtrh0000120  account_update  ncig8EDlho5uNAw 2021-10-02 00:02:20  39\n",
       "4     uuidtrh000030  account_update  2NJDWIYXDBIF9Jg 2021-10-02 00:02:22  31\n",
       "..              ...             ...              ...                 ...  ..\n",
       "111  uuidtrh0000232  account_update  jiaQplTLz3Oy1ng 2021-10-23 00:29:59  17\n",
       "112  uuidtrh0000177  account_update  QZpgyBTrlx94NBA 2021-10-23 00:30:45  15\n",
       "113  uuidtrh0000132  account_update  G0NPMQaGsPVAQ4w 2021-10-23 00:31:54  13\n",
       "114  uuidtrh0000190  account_update  YBxe2AIIUz635pA 2021-10-23 00:32:03  17\n",
       "115   uuidtrh000058  account_update  Nsp74QCRITJgSuA 2021-10-23 00:35:36   7\n",
       "\n",
       "[116 rows x 5 columns]"
      ]
     },
     "execution_count": 50,
     "metadata": {},
     "output_type": "execute_result"
    }
   ],
   "source": [
    "# account_update\n",
    "account_update = df[df[\"event_key\"]==\"account_update\"].reset_index()\n",
    "# fill the null values in event_data\n",
    "account_update[\"event_data\"].fillna(method = \"ffill\",inplace = True)\n",
    "\n",
    "ip = [] # to store level\n",
    "\n",
    "for event in account_update[\"event_data\"]:\n",
    "    event_dict = json.loads(event)\n",
    "    ip.append(event_dict[\"ip\"])\n",
    "    \n",
    "# drop the index variable\n",
    "account_update.drop(\"index\", axis = 1, inplace = True)\n",
    "\n",
    "# append to the dataframe\n",
    "ip1 = pd.Series(level)\n",
    "account_update[\"ip\"] = ip1\n",
    "\n",
    "# drop the event data feature\n",
    "account_update.drop([\"event_data\"], axis = 1, inplace = True)\n",
    " \n",
    "# confirm the whole operation\n",
    "account_update"
   ]
  },
  {
   "cell_type": "markdown",
   "metadata": {},
   "source": [
    "# Final Takeaways\n",
    "- How did the programs perform? (Overall and compared)?\n",
    "In total the programs have brought in 106 users and the program that has been the most efficent has been Next Music sourcing \n",
    "- What recommendations do you have for the executive team?\n",
    "\n",
    "- What else should we analyze or add to the analysis?"
   ]
  },
  {
   "cell_type": "code",
   "execution_count": null,
   "metadata": {},
   "outputs": [],
   "source": []
  }
 ],
 "metadata": {
  "interpreter": {
   "hash": "5b330af4f7a8e8c80722da87db2186eae600674b781a1a9ff30a8975d0a85930"
  },
  "kernelspec": {
   "display_name": "Python 3.9.7 64-bit ('base': conda)",
   "language": "python",
   "name": "python3"
  },
  "language_info": {
   "codemirror_mode": {
    "name": "ipython",
    "version": 3
   },
   "file_extension": ".py",
   "mimetype": "text/x-python",
   "name": "python",
   "nbconvert_exporter": "python",
   "pygments_lexer": "ipython3",
   "version": "3.9.7"
  },
  "orig_nbformat": 4
 },
 "nbformat": 4,
 "nbformat_minor": 2
}
